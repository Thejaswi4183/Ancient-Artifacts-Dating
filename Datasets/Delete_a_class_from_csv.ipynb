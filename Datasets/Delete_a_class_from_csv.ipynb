{
 "cells": [
  {
   "cell_type": "code",
   "execution_count": 1,
   "id": "2a1a950d-a384-40d7-b719-427647d3a5fb",
   "metadata": {},
   "outputs": [
    {
     "name": "stdout",
     "output_type": "stream",
     "text": [
      "Sculpture rows have been removed from the CSV.\n"
     ]
    }
   ],
   "source": [
    "import csv\n",
    "import os\n",
    "\n",
    "csv_filename = os.path.join(\"artifact_dataset\", \"metadata.csv\")\n",
    "\n",
    "# Function to remove sculpture-related rows\n",
    "def remove_sculpture_rows():\n",
    "    if not os.path.exists(csv_filename):\n",
    "        print(f\"The file {csv_filename} does not exist.\")\n",
    "        return\n",
    "\n",
    "    # Read the existing CSV data\n",
    "    with open(csv_filename, \"r\", newline=\"\", encoding=\"utf-8\") as csv_file:\n",
    "        csv_reader = csv.reader(csv_file)\n",
    "        rows = list(csv_reader)\n",
    "\n",
    "    # Check if the header exists\n",
    "    if len(rows) == 0:\n",
    "        print(\"The CSV file is empty.\")\n",
    "        return\n",
    "\n",
    "    # Write back only non-sculpture rows to the CSV\n",
    "    with open(csv_filename, \"w\", newline=\"\", encoding=\"utf-8\") as csv_file:\n",
    "        csv_writer = csv.writer(csv_file)\n",
    "        \n",
    "        # Write the header first\n",
    "        csv_writer.writerow(rows[0])\n",
    "        \n",
    "        # Filter out rows related to 'sculpture'\n",
    "        for row in rows[1:]:  # Skip the header row\n",
    "            artifact_type = row[0].lower()  # First column is artifact type (e.g., sculpture, coin)\n",
    "            if \"sculpture\" not in artifact_type:  # Keep non-sculpture rows\n",
    "                csv_writer.writerow(row)\n",
    "            else:\n",
    "                print(f\"Removing sculpture entry: {row}\")\n",
    "\n",
    "    print(\"Sculpture rows have been removed from the CSV.\")\n",
    "\n",
    "# Call the function to remove sculpture rows\n",
    "remove_sculpture_rows()\n"
   ]
  },
  {
   "cell_type": "code",
   "execution_count": null,
   "id": "e766c052-69fb-4ee4-a92f-759597b4b319",
   "metadata": {},
   "outputs": [],
   "source": []
  }
 ],
 "metadata": {
  "kernelspec": {
   "display_name": "Python 3 (ipykernel)",
   "language": "python",
   "name": "python3"
  },
  "language_info": {
   "codemirror_mode": {
    "name": "ipython",
    "version": 3
   },
   "file_extension": ".py",
   "mimetype": "text/x-python",
   "name": "python",
   "nbconvert_exporter": "python",
   "pygments_lexer": "ipython3",
   "version": "3.12.4"
  }
 },
 "nbformat": 4,
 "nbformat_minor": 5
}
