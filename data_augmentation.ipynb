{
 "cells": [
  {
   "cell_type": "code",
   "execution_count": 7,
   "id": "5ff55334-07a6-4069-a23c-4d31b39775ed",
   "metadata": {},
   "outputs": [
    {
     "name": "stdout",
     "output_type": "stream",
     "text": [
      "Data augmentation complete. Augmented images saved to: artifact_dataset/augmented_images\n"
     ]
    }
   ],
   "source": [
    "import os\n",
    "from tensorflow.keras.preprocessing.image import ImageDataGenerator, img_to_array, load_img, array_to_img\n",
    "\n",
    "# Define source and target directories\n",
    "SOURCE_DIR = \"artifact_dataset/images\"         # Contains subfolders: coin, sculpture, inscription\n",
    "AUGMENTED_DIR = \"artifact_dataset/augmented_images\"  # New folder to store augmented images\n",
    "\n",
    "# Create the target directory if it doesn't exist\n",
    "if not os.path.exists(AUGMENTED_DIR):\n",
    "    os.makedirs(AUGMENTED_DIR)\n",
    "\n",
    "# Define your data augmentation parameters\n",
    "datagen = ImageDataGenerator(\n",
    "    rotation_range=20,\n",
    "    width_shift_range=0.1,\n",
    "    height_shift_range=0.1,\n",
    "    shear_range=0.1,\n",
    "    zoom_range=0.1,\n",
    "    horizontal_flip=True,\n",
    "    fill_mode='nearest'\n",
    ")\n",
    "\n",
    "# Loop over each subfolder (artifact type)\n",
    "for subfolder in os.listdir(SOURCE_DIR):\n",
    "    subfolder_path = os.path.join(SOURCE_DIR, subfolder)\n",
    "    if os.path.isdir(subfolder_path):\n",
    "        target_subfolder = os.path.join(AUGMENTED_DIR, subfolder)\n",
    "        if not os.path.exists(target_subfolder):\n",
    "            os.makedirs(target_subfolder)\n",
    "        # Process each image in the subfolder\n",
    "        for image_file in os.listdir(subfolder_path):\n",
    "            image_path = os.path.join(subfolder_path, image_file)\n",
    "            if os.path.isfile(image_path) and image_file.lower().endswith((\".jpg\", \".jpeg\", \".png\")):\n",
    "                # Load and preprocess image\n",
    "                img = load_img(image_path, target_size=(224, 224))\n",
    "                x = img_to_array(img)\n",
    "                x = x.reshape((1,) + x.shape)  # Shape: (1, 224, 224, 3)\n",
    "\n",
    "                # Generate 5 augmented images for each original image\n",
    "                i = 0\n",
    "                for batch in datagen.flow(\n",
    "                        x, batch_size=1):\n",
    "                    # Create a new filename that includes the original filename\n",
    "                    base, ext = os.path.splitext(image_file)\n",
    "                    new_filename = f\"{base}_aug_{i}{ext}\"\n",
    "                    new_filepath = os.path.join(target_subfolder, new_filename)\n",
    "                    array_to_img(batch[0]).save(new_filepath)\n",
    "                    i += 1\n",
    "                    if i >= 5:\n",
    "                        break\n",
    "\n",
    "print(\"Data augmentation complete. Augmented images saved to:\", AUGMENTED_DIR)\n"
   ]
  },
  {
   "cell_type": "code",
   "execution_count": null,
   "id": "a39944dc-c3a7-4bca-80b6-a04bce38a802",
   "metadata": {},
   "outputs": [],
   "source": []
  }
 ],
 "metadata": {
  "kernelspec": {
   "display_name": "Python 3 (ipykernel)",
   "language": "python",
   "name": "python3"
  },
  "language_info": {
   "codemirror_mode": {
    "name": "ipython",
    "version": 3
   },
   "file_extension": ".py",
   "mimetype": "text/x-python",
   "name": "python",
   "nbconvert_exporter": "python",
   "pygments_lexer": "ipython3",
   "version": "3.12.4"
  }
 },
 "nbformat": 4,
 "nbformat_minor": 5
}
