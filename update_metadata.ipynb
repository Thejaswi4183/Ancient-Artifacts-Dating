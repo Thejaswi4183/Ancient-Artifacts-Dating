{
 "cells": [
  {
   "cell_type": "code",
   "execution_count": 4,
   "id": "0389c188-604e-4c8a-bbf6-2204b5dec97f",
   "metadata": {},
   "outputs": [
    {
     "name": "stdout",
     "output_type": "stream",
     "text": [
      "Updated metadata CSV created as 'cleaned_augmented_dataset.csv'.\n",
      "Total rows (original + augmented): 5556\n"
     ]
    }
   ],
   "source": [
    "import os\n",
    "import pandas as pd\n",
    "\n",
    "# Path to the original metadata CSV\n",
    "ORIG_CSV_PATH = 'artifact_dataset/metadata.csv'\n",
    "\n",
    "# Define folder paths for original and augmented images\n",
    "ORIG_IMAGES_DIR = os.path.join('artifact_dataset', 'images')\n",
    "AUG_IMAGES_DIR = os.path.join('artifact_dataset', 'augmented_images')\n",
    "\n",
    "# Load the original metadata\n",
    "orig_df = pd.read_csv(ORIG_CSV_PATH)\n",
    "\n",
    "# Clean up whitespace in key columns\n",
    "orig_df['ArtifactType'] = orig_df['ArtifactType'].str.strip()\n",
    "orig_df['Name'] = orig_df['Name'].str.strip()\n",
    "orig_df['Age'] = orig_df['Age'].str.strip()\n",
    "orig_df['Image'] = orig_df['Image'].str.strip()\n",
    "\n",
    "# Create a list to store new rows for augmented images\n",
    "aug_rows = []\n",
    "\n",
    "# Loop over each row in the original metadata\n",
    "for idx, row in orig_df.iterrows():\n",
    "    artifact_type = row['ArtifactType']\n",
    "    orig_image_path = row['Image']  # Example: \"coin/457172.jpg\" or full relative path if provided\n",
    "    \n",
    "    # Extract the base filename and extension\n",
    "    base_filename = os.path.splitext(os.path.basename(orig_image_path))[0]\n",
    "    ext = os.path.splitext(os.path.basename(orig_image_path))[1]\n",
    "    \n",
    "    # Determine the augmented folder for this artifact type\n",
    "    aug_folder = os.path.join(AUG_IMAGES_DIR, artifact_type)\n",
    "    \n",
    "    if os.path.isdir(aug_folder):\n",
    "        # List files in the augmented folder that start with the base filename\n",
    "        for file in os.listdir(aug_folder):\n",
    "            if file.startswith(f\"{base_filename}_aug_\") and file.lower().endswith((\".jpg\", \".jpeg\", \".png\")):\n",
    "                # Construct full relative path for the augmented image\n",
    "                aug_image_path = os.path.join('artifact_dataset', 'augmented_images', artifact_type, file)\n",
    "                # Create a new row that is a copy of the original row but with the augmented image path\n",
    "                new_row = row.copy()\n",
    "                new_row['Image'] = aug_image_path\n",
    "                aug_rows.append(new_row)\n",
    "\n",
    "# Create a DataFrame from the augmented rows (if any)\n",
    "aug_df = pd.DataFrame(aug_rows)\n",
    "\n",
    "# Combine the original metadata with the augmented metadata\n",
    "combined_df = pd.concat([orig_df, aug_df], ignore_index=True)\n",
    "\n",
    "# Optionally, shuffle the combined DataFrame\n",
    "combined_df = combined_df.sample(frac=1, random_state=42).reset_index(drop=True)\n",
    "\n",
    "# Save the new metadata to a CSV file with the updated name\n",
    "OUTPUT_CSV = 'cleaned_augmented_dataset.csv'\n",
    "combined_df.to_csv(OUTPUT_CSV, index=False)\n",
    "\n",
    "print(f\"Updated metadata CSV created as '{OUTPUT_CSV}'.\")\n",
    "print(f\"Total rows (original + augmented): {len(combined_df)}\")\n"
   ]
  },
  {
   "cell_type": "code",
   "execution_count": null,
   "id": "deb52a87-4fbf-448e-bd1b-c1097bd2f743",
   "metadata": {},
   "outputs": [],
   "source": []
  }
 ],
 "metadata": {
  "kernelspec": {
   "display_name": "Python 3 (ipykernel)",
   "language": "python",
   "name": "python3"
  },
  "language_info": {
   "codemirror_mode": {
    "name": "ipython",
    "version": 3
   },
   "file_extension": ".py",
   "mimetype": "text/x-python",
   "name": "python",
   "nbconvert_exporter": "python",
   "pygments_lexer": "ipython3",
   "version": "3.12.4"
  }
 },
 "nbformat": 4,
 "nbformat_minor": 5
}
