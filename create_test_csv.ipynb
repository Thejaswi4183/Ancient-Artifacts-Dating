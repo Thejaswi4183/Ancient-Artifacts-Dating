{
 "cells": [
  {
   "cell_type": "code",
   "execution_count": 5,
   "id": "02ffb3a8-a7c7-4cd4-b8b6-a6a11c8c3e16",
   "metadata": {},
   "outputs": [
    {
     "name": "stdout",
     "output_type": "stream",
     "text": [
      "Test CSV saved as test_dataset.csv\n"
     ]
    }
   ],
   "source": [
    "import pandas as pd\n",
    "from sklearn.model_selection import train_test_split\n",
    "\n",
    "# Load your cleaned dataset containing only original images\n",
    "df = pd.read_csv(\"cleaned_dataset.csv\")\n",
    "\n",
    "# Convert the Age column to numeric if needed\n",
    "df['Age'] = pd.to_numeric(df['Age'], errors='coerce')\n",
    "df = df.dropna(subset=['Age'])\n",
    "\n",
    "# Split data: 80% for train/validation, 20% for testing\n",
    "train_val_df, test_df = train_test_split(df, test_size=0.2, random_state=42)\n",
    "\n",
    "# Save the test CSV (this will be used for evaluation)\n",
    "test_df.to_csv(\"test_dataset.csv\", index=False)\n",
    "print(\"Test CSV saved as test_dataset.csv\")\n"
   ]
  },
  {
   "cell_type": "code",
   "execution_count": null,
   "id": "8e27449a-6838-46a6-b6d5-715ba98f6f38",
   "metadata": {},
   "outputs": [],
   "source": []
  }
 ],
 "metadata": {
  "kernelspec": {
   "display_name": "Python 3 (ipykernel)",
   "language": "python",
   "name": "python3"
  },
  "language_info": {
   "codemirror_mode": {
    "name": "ipython",
    "version": 3
   },
   "file_extension": ".py",
   "mimetype": "text/x-python",
   "name": "python",
   "nbconvert_exporter": "python",
   "pygments_lexer": "ipython3",
   "version": "3.12.4"
  }
 },
 "nbformat": 4,
 "nbformat_minor": 5
}
